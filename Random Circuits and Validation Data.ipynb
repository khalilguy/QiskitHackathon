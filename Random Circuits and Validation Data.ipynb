{
 "cells": [
  {
   "cell_type": "code",
   "execution_count": 4,
   "metadata": {},
   "outputs": [
    {
     "name": "stderr",
     "output_type": "stream",
     "text": [
      "ibmqfactory.load_account:WARNING:2020-06-24 23:47:21,729: Credentials are already in use. The existing account in the session will be replaced.\n"
     ]
    }
   ],
   "source": [
    "\n",
    "# Importing standard Qiskit libraries and configuring account\n",
    "from qiskit import QuantumCircuit, execute, Aer, IBMQ\n",
    "from qiskit.compiler import transpile, assemble\n",
    "from qiskit.tools.jupyter import *\n",
    "from qiskit.visualization import *\n",
    "import qiskit\n",
    "# Loading your IBM Q account(s)\n",
    "provider = IBMQ.load_account()\n"
   ]
  },
  {
   "cell_type": "code",
   "execution_count": 5,
   "metadata": {},
   "outputs": [
    {
     "name": "stderr",
     "output_type": "stream",
     "text": [
      "configrc.store_credentials:WARNING:2020-06-24 23:47:24,497: Credentials already present. Set overwrite=True to overwrite.\n"
     ]
    }
   ],
   "source": [
    "from qiskit import IBMQ\n",
    "IBMQ.save_account('7e245f54848bdbcc6bedd42fcafcd2fbe8f81b765b2537e32d39f812c3ccc2e9c755a6ac3e3edc7529982f02954bff4b84cba76cef7fe71928b9f01b092feedf')"
   ]
  },
  {
   "cell_type": "code",
   "execution_count": 6,
   "metadata": {},
   "outputs": [
    {
     "data": {
      "text/plain": [
       "33"
      ]
     },
     "execution_count": 6,
     "metadata": {},
     "output_type": "execute_result"
    }
   ],
   "source": [
    "simulator = Aer.get_backend('qasm_simulator')\n",
    "gs = simulator.configuration().basis_gates\n",
    "len(gs)"
   ]
  },
  {
   "cell_type": "code",
   "execution_count": 7,
   "metadata": {},
   "outputs": [
    {
     "name": "stdout",
     "output_type": "stream",
     "text": [
      "{0: 'u1', 1: 'u2', 2: 'u3', 3: 'cx', 4: 'cz', 5: 'id', 6: 'x', 7: 'y', 8: 'z', 9: 'h', 10: 's', 11: 'sdg', 12: 't', 13: 'tdg', 14: 'swap', 15: 'ccx', 16: 'unitary', 17: 'diagonal', 18: 'initialize', 19: 'cu1', 20: 'cu2', 21: 'cu3', 22: 'cswap', 23: 'mcx', 24: 'mcy', 25: 'mcz', 26: 'mcu1', 27: 'mcu2', 28: 'mcu3', 29: 'mcswap', 30: 'multiplexer', 31: 'kraus', 32: 'roerror'}\n"
     ]
    }
   ],
   "source": [
    "gate_dictionary = {}\n",
    "for i in range(len(gs)):\n",
    "    gate_dictionary[i] = gs[i]\n",
    "print(gate_dictionary)"
   ]
  },
  {
   "cell_type": "code",
   "execution_count": null,
   "metadata": {},
   "outputs": [],
   "source": [
    "g = [i for i in range(33)]"
   ]
  },
  {
   "cell_type": "code",
   "execution_count": 13,
   "metadata": {},
   "outputs": [
    {
     "name": "stdout",
     "output_type": "stream",
     "text": [
      "[0, 1, 2, 3, 4, 5, 6, 7, 8, 9, 10, 11, 12, 13, 14, 15, 16, 17, 18, 19, 20, 21, 22, 23, 24, 25, 26, 27, 28, 29, 30, 31, 32]\n"
     ]
    }
   ],
   "source": [
    "print(g)\n",
    "single_qubit_gate_dictionary = {0:'id',1:\"u1\", 2:\"u2\",3:\"u3\"}"
   ]
  },
  {
   "cell_type": "code",
   "execution_count": 7,
   "metadata": {},
   "outputs": [],
   "source": [
    "rand_number_of_qubits = np.random.randint(1,15)\n",
    "rand_number_of_gates = np.random.randint(2,4)\n",
    "rand_qubit_for_gate = np.random.randint(1,rand_number_of_qubits)"
   ]
  },
  {
   "cell_type": "code",
   "execution_count": 8,
   "metadata": {},
   "outputs": [],
   "source": [
    "random_circuit = QuantumCircuit(1,1)"
   ]
  },
  {
   "cell_type": "code",
   "execution_count": 9,
   "metadata": {},
   "outputs": [
    {
     "data": {
      "text/plain": [
       "'id'"
      ]
     },
     "execution_count": 9,
     "metadata": {},
     "output_type": "execute_result"
    }
   ],
   "source": [
    "single_qubit_gate_dictionary[0]"
   ]
  },
  {
   "cell_type": "code",
   "execution_count": null,
   "metadata": {},
   "outputs": [],
   "source": [
    "from inspect import getmembers, isfunction\n",
    "functions_list = [o for o in getmembers(qiskit.circuit.library.standard_gates)]"
   ]
  },
  {
   "cell_type": "code",
   "execution_count": 15,
   "metadata": {},
   "outputs": [
    {
     "data": {
      "text/plain": [
       "[('C3XGate', qiskit.circuit.library.standard_gates.x.C3XGate),\n",
       " ('C4XGate', qiskit.circuit.library.standard_gates.x.C4XGate),\n",
       " ('CCXGate', qiskit.circuit.library.standard_gates.x.CCXGate),\n",
       " ('CHGate', qiskit.circuit.library.standard_gates.h.CHGate),\n",
       " ('CRXGate', qiskit.circuit.library.standard_gates.rx.CRXGate),\n",
       " ('CRYGate', qiskit.circuit.library.standard_gates.ry.CRYGate),\n",
       " ('CRZGate', qiskit.circuit.library.standard_gates.rz.CRZGate),\n",
       " ('CSwapGate', qiskit.circuit.library.standard_gates.swap.CSwapGate),\n",
       " ('CU1Gate', qiskit.circuit.library.standard_gates.u1.CU1Gate),\n",
       " ('CU3Gate', qiskit.circuit.library.standard_gates.u3.CU3Gate),\n",
       " ('CXGate', qiskit.circuit.library.standard_gates.x.CXGate),\n",
       " ('CYGate', qiskit.circuit.library.standard_gates.y.CYGate),\n",
       " ('CZGate', qiskit.circuit.library.standard_gates.z.CZGate),\n",
       " ('CnotGate', qiskit.circuit.library.standard_gates.x.CnotGate),\n",
       " ('CrxGate', qiskit.circuit.library.standard_gates.rx.CrxGate),\n",
       " ('CryGate', qiskit.circuit.library.standard_gates.ry.CryGate),\n",
       " ('CrzGate', qiskit.circuit.library.standard_gates.rz.CrzGate),\n",
       " ('Cu1Gate', qiskit.circuit.library.standard_gates.u1.Cu1Gate),\n",
       " ('Cu3Gate', qiskit.circuit.library.standard_gates.u3.Cu3Gate),\n",
       " ('CyGate', qiskit.circuit.library.standard_gates.y.CyGate),\n",
       " ('CzGate', qiskit.circuit.library.standard_gates.z.CzGate),\n",
       " ('DCXGate', qiskit.circuit.library.standard_gates.dcx.DCXGate),\n",
       " ('FredkinGate', qiskit.circuit.library.standard_gates.swap.FredkinGate),\n",
       " ('HGate', qiskit.circuit.library.standard_gates.h.HGate),\n",
       " ('IGate', qiskit.circuit.library.standard_gates.i.IGate),\n",
       " ('IdGate', qiskit.circuit.library.standard_gates.i.IdGate),\n",
       " ('MCU1Gate', qiskit.circuit.library.standard_gates.u1.MCU1Gate),\n",
       " ('MCXGate', qiskit.circuit.library.standard_gates.x.MCXGate),\n",
       " ('MCXGrayCode', qiskit.circuit.library.standard_gates.x.MCXGrayCode),\n",
       " ('MCXRecursive', qiskit.circuit.library.standard_gates.x.MCXRecursive),\n",
       " ('MCXVChain', qiskit.circuit.library.standard_gates.x.MCXVChain),\n",
       " ('MSGate', qiskit.circuit.library.standard_gates.ms.MSGate),\n",
       " ('RC3XGate', qiskit.circuit.library.standard_gates.x.RC3XGate),\n",
       " ('RCCXGate', qiskit.circuit.library.standard_gates.x.RCCXGate),\n",
       " ('RGate', qiskit.circuit.library.standard_gates.r.RGate),\n",
       " ('RXGate', qiskit.circuit.library.standard_gates.rx.RXGate),\n",
       " ('RXXGate', qiskit.circuit.library.standard_gates.rxx.RXXGate),\n",
       " ('RYGate', qiskit.circuit.library.standard_gates.ry.RYGate),\n",
       " ('RYYGate', qiskit.circuit.library.standard_gates.ryy.RYYGate),\n",
       " ('RZGate', qiskit.circuit.library.standard_gates.rz.RZGate),\n",
       " ('RZXGate', qiskit.circuit.library.standard_gates.rzx.RZXGate),\n",
       " ('RZZGate', qiskit.circuit.library.standard_gates.rzz.RZZGate),\n",
       " ('SGate', qiskit.circuit.library.standard_gates.s.SGate),\n",
       " ('SdgGate', qiskit.circuit.library.standard_gates.s.SdgGate),\n",
       " ('SwapGate', qiskit.circuit.library.standard_gates.swap.SwapGate),\n",
       " ('TGate', qiskit.circuit.library.standard_gates.t.TGate),\n",
       " ('TdgGate', qiskit.circuit.library.standard_gates.t.TdgGate),\n",
       " ('ToffoliGate', qiskit.circuit.library.standard_gates.x.ToffoliGate),\n",
       " ('U1Gate', qiskit.circuit.library.standard_gates.u1.U1Gate),\n",
       " ('U2Gate', qiskit.circuit.library.standard_gates.u2.U2Gate),\n",
       " ('U3Gate', qiskit.circuit.library.standard_gates.u3.U3Gate),\n",
       " ('XGate', qiskit.circuit.library.standard_gates.x.XGate),\n",
       " ('YGate', qiskit.circuit.library.standard_gates.y.YGate),\n",
       " ('ZGate', qiskit.circuit.library.standard_gates.z.ZGate),\n",
       " ('__builtins__',\n",
       "  {'__name__': 'builtins',\n",
       "   '__doc__': \"Built-in functions, exceptions, and other objects.\\n\\nNoteworthy: None is the `nil' object; Ellipsis represents `...' in slices.\",\n",
       "   '__package__': '',\n",
       "   '__loader__': _frozen_importlib.BuiltinImporter,\n",
       "   '__spec__': ModuleSpec(name='builtins', loader=<class '_frozen_importlib.BuiltinImporter'>),\n",
       "   '__build_class__': <function __build_class__>,\n",
       "   '__import__': <function __import__>,\n",
       "   'abs': <function abs(x, /)>,\n",
       "   'all': <function all(iterable, /)>,\n",
       "   'any': <function any(iterable, /)>,\n",
       "   'ascii': <function ascii(obj, /)>,\n",
       "   'bin': <function bin(number, /)>,\n",
       "   'breakpoint': <function breakpoint>,\n",
       "   'callable': <function callable(obj, /)>,\n",
       "   'chr': <function chr(i, /)>,\n",
       "   'compile': <function compile(source, filename, mode, flags=0, dont_inherit=False, optimize=-1, *, _feature_version=-1)>,\n",
       "   'delattr': <function delattr(obj, name, /)>,\n",
       "   'dir': <function dir>,\n",
       "   'divmod': <function divmod(x, y, /)>,\n",
       "   'eval': <function eval(source, globals=None, locals=None, /)>,\n",
       "   'exec': <function exec(source, globals=None, locals=None, /)>,\n",
       "   'format': <function format(value, format_spec='', /)>,\n",
       "   'getattr': <function getattr>,\n",
       "   'globals': <function globals()>,\n",
       "   'hasattr': <function hasattr(obj, name, /)>,\n",
       "   'hash': <function hash(obj, /)>,\n",
       "   'hex': <function hex(number, /)>,\n",
       "   'id': <function id(obj, /)>,\n",
       "   'input': <bound method Kernel.raw_input of <ipykernel.ipkernel.IPythonKernel object at 0x00000185F2904D90>>,\n",
       "   'isinstance': <function isinstance(obj, class_or_tuple, /)>,\n",
       "   'issubclass': <function issubclass(cls, class_or_tuple, /)>,\n",
       "   'iter': <function iter>,\n",
       "   'len': <function len(obj, /)>,\n",
       "   'locals': <function locals()>,\n",
       "   'max': <function max>,\n",
       "   'min': <function min>,\n",
       "   'next': <function next>,\n",
       "   'oct': <function oct(number, /)>,\n",
       "   'ord': <function ord(c, /)>,\n",
       "   'pow': <function pow(base, exp, mod=None)>,\n",
       "   'print': <function print>,\n",
       "   'repr': <function repr(obj, /)>,\n",
       "   'round': <function round(number, ndigits=None)>,\n",
       "   'setattr': <function setattr(obj, name, value, /)>,\n",
       "   'sorted': <function sorted(iterable, /, *, key=None, reverse=False)>,\n",
       "   'sum': <function sum(iterable, /, start=0)>,\n",
       "   'vars': <function vars>,\n",
       "   'None': None,\n",
       "   'Ellipsis': Ellipsis,\n",
       "   'NotImplemented': NotImplemented,\n",
       "   'False': False,\n",
       "   'True': True,\n",
       "   'bool': bool,\n",
       "   'memoryview': memoryview,\n",
       "   'bytearray': bytearray,\n",
       "   'bytes': bytes,\n",
       "   'classmethod': classmethod,\n",
       "   'complex': complex,\n",
       "   'dict': dict,\n",
       "   'enumerate': enumerate,\n",
       "   'filter': filter,\n",
       "   'float': float,\n",
       "   'frozenset': frozenset,\n",
       "   'property': property,\n",
       "   'int': int,\n",
       "   'list': list,\n",
       "   'map': map,\n",
       "   'object': object,\n",
       "   'range': range,\n",
       "   'reversed': reversed,\n",
       "   'set': set,\n",
       "   'slice': slice,\n",
       "   'staticmethod': staticmethod,\n",
       "   'str': str,\n",
       "   'super': super,\n",
       "   'tuple': tuple,\n",
       "   'type': type,\n",
       "   'zip': zip,\n",
       "   '__debug__': True,\n",
       "   'BaseException': BaseException,\n",
       "   'Exception': Exception,\n",
       "   'TypeError': TypeError,\n",
       "   'StopAsyncIteration': StopAsyncIteration,\n",
       "   'StopIteration': StopIteration,\n",
       "   'GeneratorExit': GeneratorExit,\n",
       "   'SystemExit': SystemExit,\n",
       "   'KeyboardInterrupt': KeyboardInterrupt,\n",
       "   'ImportError': ImportError,\n",
       "   'ModuleNotFoundError': ModuleNotFoundError,\n",
       "   'OSError': OSError,\n",
       "   'EnvironmentError': OSError,\n",
       "   'IOError': OSError,\n",
       "   'WindowsError': OSError,\n",
       "   'EOFError': EOFError,\n",
       "   'RuntimeError': RuntimeError,\n",
       "   'RecursionError': RecursionError,\n",
       "   'NotImplementedError': NotImplementedError,\n",
       "   'NameError': NameError,\n",
       "   'UnboundLocalError': UnboundLocalError,\n",
       "   'AttributeError': AttributeError,\n",
       "   'SyntaxError': SyntaxError,\n",
       "   'IndentationError': IndentationError,\n",
       "   'TabError': TabError,\n",
       "   'LookupError': LookupError,\n",
       "   'IndexError': IndexError,\n",
       "   'KeyError': KeyError,\n",
       "   'ValueError': ValueError,\n",
       "   'UnicodeError': UnicodeError,\n",
       "   'UnicodeEncodeError': UnicodeEncodeError,\n",
       "   'UnicodeDecodeError': UnicodeDecodeError,\n",
       "   'UnicodeTranslateError': UnicodeTranslateError,\n",
       "   'AssertionError': AssertionError,\n",
       "   'ArithmeticError': ArithmeticError,\n",
       "   'FloatingPointError': FloatingPointError,\n",
       "   'OverflowError': OverflowError,\n",
       "   'ZeroDivisionError': ZeroDivisionError,\n",
       "   'SystemError': SystemError,\n",
       "   'ReferenceError': ReferenceError,\n",
       "   'MemoryError': MemoryError,\n",
       "   'BufferError': BufferError,\n",
       "   'Warning': Warning,\n",
       "   'UserWarning': UserWarning,\n",
       "   'DeprecationWarning': DeprecationWarning,\n",
       "   'PendingDeprecationWarning': PendingDeprecationWarning,\n",
       "   'SyntaxWarning': SyntaxWarning,\n",
       "   'RuntimeWarning': RuntimeWarning,\n",
       "   'FutureWarning': FutureWarning,\n",
       "   'ImportWarning': ImportWarning,\n",
       "   'UnicodeWarning': UnicodeWarning,\n",
       "   'BytesWarning': BytesWarning,\n",
       "   'ResourceWarning': ResourceWarning,\n",
       "   'ConnectionError': ConnectionError,\n",
       "   'BlockingIOError': BlockingIOError,\n",
       "   'BrokenPipeError': BrokenPipeError,\n",
       "   'ChildProcessError': ChildProcessError,\n",
       "   'ConnectionAbortedError': ConnectionAbortedError,\n",
       "   'ConnectionRefusedError': ConnectionRefusedError,\n",
       "   'ConnectionResetError': ConnectionResetError,\n",
       "   'FileExistsError': FileExistsError,\n",
       "   'FileNotFoundError': FileNotFoundError,\n",
       "   'IsADirectoryError': IsADirectoryError,\n",
       "   'NotADirectoryError': NotADirectoryError,\n",
       "   'InterruptedError': InterruptedError,\n",
       "   'PermissionError': PermissionError,\n",
       "   'ProcessLookupError': ProcessLookupError,\n",
       "   'TimeoutError': TimeoutError,\n",
       "   'open': <function io.open(file, mode='r', buffering=-1, encoding=None, errors=None, newline=None, closefd=True, opener=None)>,\n",
       "   'copyright': Copyright (c) 2001-2020 Python Software Foundation.\n",
       "   All Rights Reserved.\n",
       "   \n",
       "   Copyright (c) 2000 BeOpen.com.\n",
       "   All Rights Reserved.\n",
       "   \n",
       "   Copyright (c) 1995-2001 Corporation for National Research Initiatives.\n",
       "   All Rights Reserved.\n",
       "   \n",
       "   Copyright (c) 1991-1995 Stichting Mathematisch Centrum, Amsterdam.\n",
       "   All Rights Reserved.,\n",
       "   'credits':     Thanks to CWI, CNRI, BeOpen.com, Zope Corporation and a cast of thousands\n",
       "       for supporting Python development.  See www.python.org for more information.,\n",
       "   'license': See https://www.python.org/psf/license/,\n",
       "   'help': Type help() for interactive help, or help(object) for help about object.,\n",
       "   '__IPYTHON__': True,\n",
       "   'display': <function IPython.core.display.display(*objs, include=None, exclude=None, metadata=None, transient=None, display_id=None, **kwargs)>,\n",
       "   '__pybind11_internals_v3_msvc__': <capsule object NULL at 0x000001858A1F67B0>,\n",
       "   '__pybind11_internals_v4_msvc__': <capsule object NULL at 0x00000185A5554120>,\n",
       "   'get_ipython': <bound method InteractiveShell.get_ipython of <ipykernel.zmqshell.ZMQInteractiveShell object at 0x00000185F2904D60>>}),\n",
       " ('__cached__',\n",
       "  'C:\\\\Users\\\\Khalil\\\\anaconda3\\\\envs\\\\qiskitenv\\\\lib\\\\site-packages\\\\qiskit\\\\circuit\\\\library\\\\standard_gates\\\\__pycache__\\\\__init__.cpython-38.pyc'),\n",
       " ('__doc__',\n",
       "  '\\n=============================================================\\nStandard gates (:mod:`qiskit.circuit.library.standard_gates`)\\n=============================================================\\n\\n.. autosummary::\\n   :toctree: ../stubs/\\n\\n   C3XGate\\n   C4XGate\\n   CCXGate\\n   CHGate\\n   CRXGate\\n   CRYGate\\n   CRZGate\\n   CSwapGate\\n   CU1Gate\\n   CU3Gate\\n   CXGate\\n   CYGate\\n   CZGate\\n   HGate\\n   IGate\\n   MSGate\\n   RCCXGate\\n   RC3XGate\\n   RXGate\\n   RXXGate\\n   RYGate\\n   RYYGate\\n   RZGate\\n   RZZGate\\n   RZXGate\\n   SGate\\n   SdgGate\\n   SwapGate\\n   iSwapGate\\n   DCXGate\\n   TdgGate\\n   U1Gate\\n   U2Gate\\n   U3Gate\\n   XGate\\n   YGate\\n   ZGate\\n\\n'),\n",
       " ('__file__',\n",
       "  'C:\\\\Users\\\\Khalil\\\\anaconda3\\\\envs\\\\qiskitenv\\\\lib\\\\site-packages\\\\qiskit\\\\circuit\\\\library\\\\standard_gates\\\\__init__.py'),\n",
       " ('__loader__',\n",
       "  <_frozen_importlib_external.SourceFileLoader at 0x1858a49d5e0>),\n",
       " ('__name__', 'qiskit.circuit.library.standard_gates'),\n",
       " ('__package__', 'qiskit.circuit.library.standard_gates'),\n",
       " ('__path__',\n",
       "  ['C:\\\\Users\\\\Khalil\\\\anaconda3\\\\envs\\\\qiskitenv\\\\lib\\\\site-packages\\\\qiskit\\\\circuit\\\\library\\\\standard_gates']),\n",
       " ('__spec__',\n",
       "  ModuleSpec(name='qiskit.circuit.library.standard_gates', loader=<_frozen_importlib_external.SourceFileLoader object at 0x000001858A49D5E0>, origin='C:\\\\Users\\\\Khalil\\\\anaconda3\\\\envs\\\\qiskitenv\\\\lib\\\\site-packages\\\\qiskit\\\\circuit\\\\library\\\\standard_gates\\\\__init__.py', submodule_search_locations=['C:\\\\Users\\\\Khalil\\\\anaconda3\\\\envs\\\\qiskitenv\\\\lib\\\\site-packages\\\\qiskit\\\\circuit\\\\library\\\\standard_gates'])),\n",
       " ('boolean_logical_gates',\n",
       "  <module 'qiskit.circuit.library.standard_gates.boolean_logical_gates' from 'C:\\\\Users\\\\Khalil\\\\anaconda3\\\\envs\\\\qiskitenv\\\\lib\\\\site-packages\\\\qiskit\\\\circuit\\\\library\\\\standard_gates\\\\boolean_logical_gates.py'>),\n",
       " ('dcx',\n",
       "  <module 'qiskit.circuit.library.standard_gates.dcx' from 'C:\\\\Users\\\\Khalil\\\\anaconda3\\\\envs\\\\qiskitenv\\\\lib\\\\site-packages\\\\qiskit\\\\circuit\\\\library\\\\standard_gates\\\\dcx.py'>),\n",
       " ('h',\n",
       "  <module 'qiskit.circuit.library.standard_gates.h' from 'C:\\\\Users\\\\Khalil\\\\anaconda3\\\\envs\\\\qiskitenv\\\\lib\\\\site-packages\\\\qiskit\\\\circuit\\\\library\\\\standard_gates\\\\h.py'>),\n",
       " ('i',\n",
       "  <module 'qiskit.circuit.library.standard_gates.i' from 'C:\\\\Users\\\\Khalil\\\\anaconda3\\\\envs\\\\qiskitenv\\\\lib\\\\site-packages\\\\qiskit\\\\circuit\\\\library\\\\standard_gates\\\\i.py'>),\n",
       " ('iSwapGate', qiskit.circuit.library.standard_gates.iswap.iSwapGate),\n",
       " ('iswap',\n",
       "  <module 'qiskit.circuit.library.standard_gates.iswap' from 'C:\\\\Users\\\\Khalil\\\\anaconda3\\\\envs\\\\qiskitenv\\\\lib\\\\site-packages\\\\qiskit\\\\circuit\\\\library\\\\standard_gates\\\\iswap.py'>),\n",
       " ('logical_and',\n",
       "  <function qiskit.circuit.library.standard_gates.boolean_logical_gates.logical_and(self, qr_variables, qb_target, qr_ancillae, flags=None, mct_mode='no-ancilla')>),\n",
       " ('logical_or',\n",
       "  <function qiskit.circuit.library.standard_gates.boolean_logical_gates.logical_or(self, qr_variables, qb_target, qr_ancillae, flags=None, mct_mode='basic')>),\n",
       " ('mcrx',\n",
       "  <function qiskit.circuit.library.standard_gates.multi_control_rotation_gates.mcrx(self, theta, q_controls, q_target, use_basis_gates=False)>),\n",
       " ('mcry',\n",
       "  <function qiskit.circuit.library.standard_gates.multi_control_rotation_gates.mcry(self, theta, q_controls, q_target, q_ancillae, mode='basic', use_basis_gates=False)>),\n",
       " ('mcrz',\n",
       "  <function qiskit.circuit.library.standard_gates.multi_control_rotation_gates.mcrz(self, lam, q_controls, q_target, use_basis_gates=False)>),\n",
       " ('ms',\n",
       "  <module 'qiskit.circuit.library.standard_gates.ms' from 'C:\\\\Users\\\\Khalil\\\\anaconda3\\\\envs\\\\qiskitenv\\\\lib\\\\site-packages\\\\qiskit\\\\circuit\\\\library\\\\standard_gates\\\\ms.py'>),\n",
       " ('multi_control_rotation_gates',\n",
       "  <module 'qiskit.circuit.library.standard_gates.multi_control_rotation_gates' from 'C:\\\\Users\\\\Khalil\\\\anaconda3\\\\envs\\\\qiskitenv\\\\lib\\\\site-packages\\\\qiskit\\\\circuit\\\\library\\\\standard_gates\\\\multi_control_rotation_gates.py'>),\n",
       " ('r',\n",
       "  <module 'qiskit.circuit.library.standard_gates.r' from 'C:\\\\Users\\\\Khalil\\\\anaconda3\\\\envs\\\\qiskitenv\\\\lib\\\\site-packages\\\\qiskit\\\\circuit\\\\library\\\\standard_gates\\\\r.py'>),\n",
       " ('rx',\n",
       "  <module 'qiskit.circuit.library.standard_gates.rx' from 'C:\\\\Users\\\\Khalil\\\\anaconda3\\\\envs\\\\qiskitenv\\\\lib\\\\site-packages\\\\qiskit\\\\circuit\\\\library\\\\standard_gates\\\\rx.py'>),\n",
       " ('rxx',\n",
       "  <module 'qiskit.circuit.library.standard_gates.rxx' from 'C:\\\\Users\\\\Khalil\\\\anaconda3\\\\envs\\\\qiskitenv\\\\lib\\\\site-packages\\\\qiskit\\\\circuit\\\\library\\\\standard_gates\\\\rxx.py'>),\n",
       " ('ry',\n",
       "  <module 'qiskit.circuit.library.standard_gates.ry' from 'C:\\\\Users\\\\Khalil\\\\anaconda3\\\\envs\\\\qiskitenv\\\\lib\\\\site-packages\\\\qiskit\\\\circuit\\\\library\\\\standard_gates\\\\ry.py'>),\n",
       " ('ryy',\n",
       "  <module 'qiskit.circuit.library.standard_gates.ryy' from 'C:\\\\Users\\\\Khalil\\\\anaconda3\\\\envs\\\\qiskitenv\\\\lib\\\\site-packages\\\\qiskit\\\\circuit\\\\library\\\\standard_gates\\\\ryy.py'>),\n",
       " ('rz',\n",
       "  <module 'qiskit.circuit.library.standard_gates.rz' from 'C:\\\\Users\\\\Khalil\\\\anaconda3\\\\envs\\\\qiskitenv\\\\lib\\\\site-packages\\\\qiskit\\\\circuit\\\\library\\\\standard_gates\\\\rz.py'>),\n",
       " ('rzx',\n",
       "  <module 'qiskit.circuit.library.standard_gates.rzx' from 'C:\\\\Users\\\\Khalil\\\\anaconda3\\\\envs\\\\qiskitenv\\\\lib\\\\site-packages\\\\qiskit\\\\circuit\\\\library\\\\standard_gates\\\\rzx.py'>),\n",
       " ('rzz',\n",
       "  <module 'qiskit.circuit.library.standard_gates.rzz' from 'C:\\\\Users\\\\Khalil\\\\anaconda3\\\\envs\\\\qiskitenv\\\\lib\\\\site-packages\\\\qiskit\\\\circuit\\\\library\\\\standard_gates\\\\rzz.py'>),\n",
       " ('s',\n",
       "  <module 'qiskit.circuit.library.standard_gates.s' from 'C:\\\\Users\\\\Khalil\\\\anaconda3\\\\envs\\\\qiskitenv\\\\lib\\\\site-packages\\\\qiskit\\\\circuit\\\\library\\\\standard_gates\\\\s.py'>),\n",
       " ('swap',\n",
       "  <module 'qiskit.circuit.library.standard_gates.swap' from 'C:\\\\Users\\\\Khalil\\\\anaconda3\\\\envs\\\\qiskitenv\\\\lib\\\\site-packages\\\\qiskit\\\\circuit\\\\library\\\\standard_gates\\\\swap.py'>),\n",
       " ('t',\n",
       "  <module 'qiskit.circuit.library.standard_gates.t' from 'C:\\\\Users\\\\Khalil\\\\anaconda3\\\\envs\\\\qiskitenv\\\\lib\\\\site-packages\\\\qiskit\\\\circuit\\\\library\\\\standard_gates\\\\t.py'>),\n",
       " ('u1',\n",
       "  <module 'qiskit.circuit.library.standard_gates.u1' from 'C:\\\\Users\\\\Khalil\\\\anaconda3\\\\envs\\\\qiskitenv\\\\lib\\\\site-packages\\\\qiskit\\\\circuit\\\\library\\\\standard_gates\\\\u1.py'>),\n",
       " ('u2',\n",
       "  <module 'qiskit.circuit.library.standard_gates.u2' from 'C:\\\\Users\\\\Khalil\\\\anaconda3\\\\envs\\\\qiskitenv\\\\lib\\\\site-packages\\\\qiskit\\\\circuit\\\\library\\\\standard_gates\\\\u2.py'>),\n",
       " ('u3',\n",
       "  <module 'qiskit.circuit.library.standard_gates.u3' from 'C:\\\\Users\\\\Khalil\\\\anaconda3\\\\envs\\\\qiskitenv\\\\lib\\\\site-packages\\\\qiskit\\\\circuit\\\\library\\\\standard_gates\\\\u3.py'>),\n",
       " ('x',\n",
       "  <module 'qiskit.circuit.library.standard_gates.x' from 'C:\\\\Users\\\\Khalil\\\\anaconda3\\\\envs\\\\qiskitenv\\\\lib\\\\site-packages\\\\qiskit\\\\circuit\\\\library\\\\standard_gates\\\\x.py'>),\n",
       " ('y',\n",
       "  <module 'qiskit.circuit.library.standard_gates.y' from 'C:\\\\Users\\\\Khalil\\\\anaconda3\\\\envs\\\\qiskitenv\\\\lib\\\\site-packages\\\\qiskit\\\\circuit\\\\library\\\\standard_gates\\\\y.py'>)]"
      ]
     },
     "execution_count": 15,
     "metadata": {},
     "output_type": "execute_result"
    }
   ],
   "source": [
    "functions_list"
   ]
  },
  {
   "cell_type": "code",
   "execution_count": null,
   "metadata": {},
   "outputs": [],
   "source": []
  }
 ],
 "metadata": {
  "kernelspec": {
   "display_name": "Python 3",
   "language": "python",
   "name": "python3"
  },
  "language_info": {
   "codemirror_mode": {
    "name": "ipython",
    "version": 3
   },
   "file_extension": ".py",
   "mimetype": "text/x-python",
   "name": "python",
   "nbconvert_exporter": "python",
   "pygments_lexer": "ipython3",
   "version": "3.8.3"
  }
 },
 "nbformat": 4,
 "nbformat_minor": 4
}

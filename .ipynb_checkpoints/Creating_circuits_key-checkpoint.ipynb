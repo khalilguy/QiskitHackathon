{
 "cells": [
  {
   "cell_type": "code",
   "execution_count": 1,
   "metadata": {},
   "outputs": [],
   "source": [
    "import qiskit as qiskit\n",
    "import numpy as np\n",
    "from random import randint"
   ]
  },
  {
   "cell_type": "markdown",
   "metadata": {},
   "source": [
    "# Creating Random Circuits"
   ]
  },
  {
   "cell_type": "markdown",
   "metadata": {},
   "source": [
    "We want to create random circuits to train and validate our neural network on. To do this, we utilize random number generators with a limit on the circuit depth of the largest quantum computer available to us from the IBMQ Experience, 15 qubits. We want two things from this function:\n",
    "1. Output a QuantumCircuit object that we can later run on multiple backends\n",
    "2. Output the data in a way that our neural network can understand:\n",
    "    * A list which has the following Dimensions: number of qubits x circuit depth\n",
    "    * Each element in the list will correspond to a gate given by the dictionary `operators`"
   ]
  },
  {
   "cell_type": "code",
   "execution_count": 7,
   "metadata": {},
   "outputs": [],
   "source": [
    "def create_circuit():\n",
    "    \"\"\"This function takes no inputs and outputs a random circuit in neural network representation \n",
    "    as well as a quantum circuit object\"\"\"\n",
    "    num_qubits = randint(2,15) #Set the circuit width\n",
    "    len_circuit = randint(2,10) #Set the circuit depth\n",
    "    circ = np.zeros((num_qubits,len_circuit)) #Initialize the circuit representation for the Neural Net\n",
    "    qc = qiskit.QuantumCircuit(num_qubits) #Initialize the actual quantum circuit\n",
    "    operators = {0:qc.id,1:qc.x,2:qc.y,3:qc.z,4:qc.h,5:qc.cx,6:qc.swap} #Define the operators and their corresponding Neural Net representations\n",
    "    for i in range(len_circuit):\n",
    "        ctrl = randint(0,num_qubits-1) #Choose a qubit for a single qubit gat to act on or a ctrl qubit for a 2 qubit gate to act on\n",
    "        targ = randint(0,num_qubits-1) #Choose a target qubit for a 2 qubit gate to act on\n",
    "        gate_num = randint(0,6) #Choose a gate to implement\n",
    "        while ctrl == targ: #Make sure the target and ctrl qubit are different\n",
    "            targ = randint(0,num_qubits-1)\n",
    "        try:\n",
    "            #Implement the gate if it is a single qubit gate and add it to the neural net representation\n",
    "            operators.get(gate_num)(ctrl) \n",
    "            circ[ctrl][i] = gate_num\n",
    "        except:\n",
    "            try:\n",
    "                #Implement the gate if it is a 2 qubit gate and add it to the neural net representation\n",
    "                operators.get(gate_num)(ctrl,targ)\n",
    "                circ[ctrl][i] = gate_num\n",
    "                circ[targ][i] = gate_num\n",
    "            except:\n",
    "                gate_num = randint(0,6)\n",
    "    return circ, qc"
   ]
  },
  {
   "cell_type": "code",
   "execution_count": null,
   "metadata": {},
   "outputs": [],
   "source": [
    "number_of_circuits = 10\n",
    "\n",
    "circuits = [0]*number_of_circuits\n",
    "\n",
    "for i in range(number_of_circuits):\n",
    "    circuits\n"
   ]
  }
 ],
 "metadata": {
  "kernelspec": {
   "display_name": "Python 3",
   "language": "python",
   "name": "python3"
  },
  "language_info": {
   "codemirror_mode": {
    "name": "ipython",
    "version": 3
   },
   "file_extension": ".py",
   "mimetype": "text/x-python",
   "name": "python",
   "nbconvert_exporter": "python",
   "pygments_lexer": "ipython3",
   "version": "3.8.3"
  }
 },
 "nbformat": 4,
 "nbformat_minor": 2
}

{
 "cells": [
  {
   "cell_type": "code",
   "execution_count": 6,
   "metadata": {},
   "outputs": [
    {
     "name": "stderr",
     "output_type": "stream",
     "text": [
      "configrc.store_credentials:WARNING:2020-06-26 20:14:09,743: Credentials already present. Set overwrite=True to overwrite.\n",
      "ibmqfactory.load_account:WARNING:2020-06-26 20:14:10,038: Credentials are already in use. The existing account in the session will be replaced.\n"
     ]
    }
   ],
   "source": [
    "import qiskit as qiskit\n",
    "import numpy as np\n",
    "from random import randint\n",
    "from qiskit import QuantumCircuit, execute, Aer, IBMQ\n",
    "from qiskit.compiler import transpile, assemble\n",
    "from qiskit import IBMQ\n",
    "IBMQ.save_account('7e245f54848bdbcc6bedd42fcafcd2fbe8f81b765b2537e32d39f812c3ccc2e9c755a6ac3e3edc7529982f02954bff4b84cba76cef7fe71928b9f01b092feedf')\n",
    "IBMQ.load_account()\n",
    "from qiskit.providers.aer.noise import NoiseModel\n",
    "import copy"
   ]
  },
  {
   "cell_type": "markdown",
   "metadata": {},
   "source": [
    "# Creating Random Circuits"
   ]
  },
  {
   "cell_type": "markdown",
   "metadata": {},
   "source": [
    "We want to create random circuits to train and validate our neural network on. To do this, we utilize random number generators with a limit on the circuit depth of the largest quantum computer available to us from the IBMQ Experience, 15 qubits. We want two things from this function:\n",
    "1. Output a QuantumCircuit object that we can later run on multiple backends\n",
    "2. Output the data in a way that our neural network can understand:\n",
    "    * A list which has the following Dimensions: number of qubits x circuit depth\n",
    "    * Each element in the list will correspond to a gate given by the dictionary `operators`"
   ]
  },
  {
   "cell_type": "code",
   "execution_count": 34,
   "metadata": {},
   "outputs": [],
   "source": [
    "def create_circuit():\n",
    "    \"\"\"This function takes no inputs and outputs a random circuit in neural network representation \n",
    "    as well as a quantum circuit object\"\"\"\n",
    "    num_qubits = randint(2,5) #Set the circuit width\n",
    "    len_circuit = randint(10,30) #Set the circuit depth\n",
    "    circ = np.zeros((num_qubits,len_circuit)) #Initialize the circuit representation for the Neural Net\n",
    "    qc = qiskit.QuantumCircuit(num_qubits) #Initialize the actual quantum circuit\n",
    "    operators = {0:qc.id,1:qc.x,2:qc.y,3:qc.z,4:qc.h,5:qc.cx,6:qc.swap} #Define the operators and their corresponding Neural Net representations\n",
    "    for i in range(len_circuit):\n",
    "        ctrl = randint(0,num_qubits-1) #Choose a qubit for a single qubit gat to act on or a ctrl qubit for a 2 qubit gate to act on\n",
    "        targ = randint(0,num_qubits-1) #Choose a target qubit for a 2 qubit gate to act on\n",
    "        gate_num = randint(1,6) #Choose a gate to implement\n",
    "        while ctrl == targ: #Make sure the target and ctrl qubit are different\n",
    "            targ = randint(0,num_qubits-1)\n",
    "        try:\n",
    "            #Implement the gate if it is a single qubit gate and add it to the neural net representation\n",
    "            operators.get(gate_num)(ctrl) \n",
    "            circ[ctrl][i] = gate_num\n",
    "        except:\n",
    "            try:\n",
    "                #Implement the gate if it is a 2 qubit gate and add it to the neural net representation\n",
    "                operators.get(gate_num)(ctrl,targ)\n",
    "                circ[ctrl][i] = gate_num\n",
    "                circ[targ][i] = gate_num\n",
    "            except:\n",
    "                gate_num = randint(1,6)\n",
    "    qc.measure_all()\n",
    "    return circ, qc"
   ]
  },
  {
   "cell_type": "code",
   "execution_count": 35,
   "metadata": {},
   "outputs": [],
   "source": [
    "def list_of_circuits(num_of_circuits):\n",
    "    circuits = [0]*num_of_circuits #initialize list by number of desired circuits\n",
    "    circuit_arrays = [0]*num_of_circuits #initialize list by number of desired circuits\n",
    "\n",
    "    for i in range(num_of_circuits): \n",
    "        #calls create_circuits function desired number of times and puts objects into the arrays\n",
    "        circuit_arrays[i], circuits[i] = create_circuit()\n",
    "    return circuit_arrays, circuits"
   ]
  },
  {
   "cell_type": "markdown",
   "metadata": {},
   "source": [
    "# Creating the Validation Answer Key"
   ]
  },
  {
   "cell_type": "markdown",
   "metadata": {},
   "source": [
    "Here we use the KL divergence to analyze which probability distribution obtained from running our circuit on multiple different backends is the closest to the circuit result obtained from running on a simulator with no noise. We save this data in a list of lists, where each row can be thought of as referencing a circuit and each column can be thought of as referencing a backend. "
   ]
  },
  {
   "cell_type": "code",
   "execution_count": 36,
   "metadata": {},
   "outputs": [],
   "source": [
    "def kl_divergence(p, q):\n",
    "    return np.sum(np.where(p != 0, p * np.log(p / q), 0))"
   ]
  },
  {
   "cell_type": "code",
   "execution_count": null,
   "metadata": {},
   "outputs": [
    {
     "name": "stdout",
     "output_type": "stream",
     "text": [
      "0.11596507701514297\n",
      "0.11596507701514297\n",
      "0.13465226510042266\n",
      "0.12078624303644254\n",
      "0.08032627178189028\n",
      "0.08032627178189028\n",
      "0.13178303559179358\n",
      "0.1626901898877588\n",
      "0.1193561408394521\n",
      "0.11107771799628681\n",
      "done\n"
     ]
    }
   ],
   "source": [
    "circuit_arrays, circuits = list_of_circuits(1)\n",
    "list_of_backends = IBMQ.get_provider('ibm-q').backends()\n",
    "list_of_backends.remove(IBMQ.get_provider('ibm-q').get_backend('ibmq_qasm_simulator'))\n",
    "simulator = Aer.get_backend('qasm_simulator')\n",
    "\n",
    "validation_set = np.zeros((len(circuits),len(list_of_backends)))\n",
    "shots = 10000\n",
    "for i in range(len(circuits)):\n",
    "    previous_divergence = 1\n",
    "    best_backend = 0;\n",
    "    for j in range(len(list_of_backends)):\n",
    "        if np.shape(circuit_arrays[i])[0] < list_of_backends[j].configuration().num_qubits:\n",
    "            coupling_map = list_of_backends[j].configuration().coupling_map\n",
    "            basis_gates = list_of_backends[j].configuration().basis_gates\n",
    "            noise_model = NoiseModel.from_backend(list_of_backends[j])\n",
    "            psi_0 = execute(circuits[i], simulator, shots = shots, coupling_map = coupling_map, basis_gates = basis_gates).result().get_counts()\n",
    "            psi_1 = execute(circuits[i], simulator, shots = shots, coupling_map = coupling_map, basis_gates = basis_gates, noise_model = noise_model).result().get_counts()\n",
    "            \n",
    "            psi_00 = copy.deepcopy(psi_1)\n",
    "            for bit in psi_0.keys():\n",
    "                psi_00[bit] = psi_0.get(bit)\n",
    "            \n",
    "            \n",
    "            psi_0 = np.asarray([value/shots for value in psi_00.values()])\n",
    "            psi_1 = np.asarray([value/shots for value in psi_1.values()])\n",
    "            divergence = np.abs(kl_divergence(psi_0, psi_1))\n",
    "            print(divergence)\n",
    "            if divergence <  previous_divergence:\n",
    "                best_backend = j\n",
    "                previous_divergence = divergence\n",
    "                print(previous_divergence)\n",
    "    validation_set[i, best_backend] = 1\n",
    "        \n",
    "print(\"done\")       \n",
    "        "
   ]
  },
  {
   "cell_type": "code",
   "execution_count": 38,
   "metadata": {},
   "outputs": [
    {
     "data": {
      "text/plain": [
       "array([[0., 0., 0., 1., 0., 0., 0., 0., 0.]])"
      ]
     },
     "execution_count": 38,
     "metadata": {},
     "output_type": "execute_result"
    }
   ],
   "source": [
    "validation_set"
   ]
  },
  {
   "cell_type": "code",
   "execution_count": null,
   "metadata": {},
   "outputs": [],
   "source": []
  }
 ],
 "metadata": {
  "kernelspec": {
   "display_name": "Python 3",
   "language": "python",
   "name": "python3"
  },
  "language_info": {
   "codemirror_mode": {
    "name": "ipython",
    "version": 3
   },
   "file_extension": ".py",
   "mimetype": "text/x-python",
   "name": "python",
   "nbconvert_exporter": "python",
   "pygments_lexer": "ipython3",
   "version": "3.6.4"
  }
 },
 "nbformat": 4,
 "nbformat_minor": 2
}

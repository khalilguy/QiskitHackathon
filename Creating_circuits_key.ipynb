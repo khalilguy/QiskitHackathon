{
 "cells": [
  {
   "cell_type": "code",
   "execution_count": 144,
   "metadata": {},
   "outputs": [
    {
     "name": "stderr",
     "output_type": "stream",
     "text": [
      "configrc.store_credentials:WARNING:2020-06-25 22:53:12,480: Credentials already present. Set overwrite=True to overwrite.\n",
      "ibmqfactory.load_account:WARNING:2020-06-25 22:53:12,792: Credentials are already in use. The existing account in the session will be replaced.\n"
     ]
    }
   ],
   "source": [
    "import qiskit as qiskit\n",
    "import numpy as np\n",
    "from random import randint\n",
    "from qiskit import QuantumCircuit, execute, Aer, IBMQ\n",
    "from qiskit.compiler import transpile, assemble\n",
    "from qiskit import IBMQ\n",
    "IBMQ.save_account('7e245f54848bdbcc6bedd42fcafcd2fbe8f81b765b2537e32d39f812c3ccc2e9c755a6ac3e3edc7529982f02954bff4b84cba76cef7fe71928b9f01b092feedf')\n",
    "IBMQ.load_account()\n",
    "from qiskit.providers.aer.noise import NoiseModel"
   ]
  },
  {
   "cell_type": "markdown",
   "metadata": {},
   "source": [
    "# Creating Random Circuits"
   ]
  },
  {
   "cell_type": "markdown",
   "metadata": {},
   "source": [
    "We want to create random circuits to train and validate our neural network on. To do this, we utilize random number generators with a limit on the circuit depth of the largest quantum computer available to us from the IBMQ Experience, 15 qubits. We want two things from this function:\n",
    "1. Output a QuantumCircuit object that we can later run on multiple backends\n",
    "2. Output the data in a way that our neural network can understand:\n",
    "    * A list which has the following Dimensions: number of qubits x circuit depth\n",
    "    * Each element in the list will correspond to a gate given by the dictionary `operators`"
   ]
  },
  {
   "cell_type": "code",
   "execution_count": 192,
   "metadata": {},
   "outputs": [],
   "source": [
    "def create_circuit():\n",
    "    \"\"\"This function takes no inputs and outputs a random circuit in neural network representation \n",
    "    as well as a quantum circuit object\"\"\"\n",
    "    num_qubits = randint(2,15) #Set the circuit width\n",
    "    len_circuit = randint(10,25) #Set the circuit depth\n",
    "    circ = np.zeros((num_qubits,len_circuit)) #Initialize the circuit representation for the Neural Net\n",
    "    qc = qiskit.QuantumCircuit(num_qubits) #Initialize the actual quantum circuit\n",
    "    operators = {0:qc.id,1:qc.x,2:qc.y,3:qc.z,4:qc.h,5:qc.cx,6:qc.swap} #Define the operators and their corresponding Neural Net representations\n",
    "    for i in range(len_circuit):\n",
    "        ctrl = randint(0,num_qubits-1) #Choose a qubit for a single qubit gat to act on or a ctrl qubit for a 2 qubit gate to act on\n",
    "        targ = randint(0,num_qubits-1) #Choose a target qubit for a 2 qubit gate to act on\n",
    "        gate_num = randint(1,6) #Choose a gate to implement\n",
    "        while ctrl == targ: #Make sure the target and ctrl qubit are different\n",
    "            targ = randint(0,num_qubits-1)\n",
    "        try:\n",
    "            #Implement the gate if it is a single qubit gate and add it to the neural net representation\n",
    "            operators.get(gate_num)(ctrl) \n",
    "            circ[ctrl][i] = gate_num\n",
    "        except:\n",
    "            try:\n",
    "                #Implement the gate if it is a 2 qubit gate and add it to the neural net representation\n",
    "                operators.get(gate_num)(ctrl,targ)\n",
    "                circ[ctrl][i] = gate_num\n",
    "                circ[targ][i] = gate_num\n",
    "            except:\n",
    "                gate_num = randint(1,6)\n",
    "    qc.measure_all()\n",
    "    return circ, qc"
   ]
  },
  {
   "cell_type": "code",
   "execution_count": 193,
   "metadata": {},
   "outputs": [],
   "source": [
    "def list_of_circuits(num_of_circuits):\n",
    "    circuits = [0]*num_of_circuits #initialize list by number of desired circuits\n",
    "    circuit_arrays = [0]*num_of_circuits #initialize list by number of desired circuits\n",
    "\n",
    "    for i in range(num_of_circuits): \n",
    "        #calls create_circuits function desired number of times and puts objects into the arrays\n",
    "        circuit_arrays[i], circuits[i] = create_circuit()\n",
    "    return circuit_arrays, circuits"
   ]
  },
  {
   "cell_type": "code",
   "execution_count": 201,
   "metadata": {},
   "outputs": [],
   "source": [
    "\n",
    "circuit_arrays, circuits = list_of_circuits(1)\n",
    "list_of_backends = IBMQ.get_provider('ibm-q').backends()\n",
    "list_of_backends.remove(IBMQ.get_provider('ibm-q').get_backend('ibmq_qasm_simulator'))\n",
    "simulator = Aer.get_backend('statevector_simulator')\n",
    "\n",
    "validation_set = np.zeros((len(circuits),len(list_of_backends)))\n",
    "\n",
    "for i in range(len(circuits)):\n",
    "    previous_fidelity = 0\n",
    "    best_backend = 0;\n",
    "    for j in range(len(list_of_backends)):\n",
    "        if np.shape(circuit_arrays[i])[0] < list_of_backends[j].configuration().num_qubits:\n",
    "            coupling_map = list_of_backends[j].configuration().coupling_map\n",
    "            basis_gates = list_of_backends[j].configuration().basis_gates\n",
    "            noise_model = NoiseModel.from_backend(list_of_backends[j])\n",
    "            psi_0 = execute(circuits[i], simulator, shots = 1000, coupling_map = coupling_map, basis_gates = basis_gates).result().get_statevector()\n",
    "            psi_1 = execute(circuits[i], simulator, shots = 1000, coupling_map = coupling_map, basis_gates = basis_gates, noise_model = noise_model).result().get_statevector()\n",
    "            fidelity = qiskit.quantum_info.state_fidelity(psi_0, psi_1, validate=True)\n",
    "            if fidelity > previous_fidelity:\n",
    "                best_backend = j\n",
    "                previous_fidelity = fidelity\n",
    "    validation_set[i, best_backend] = 1\n",
    "        \n",
    "        \n",
    "        "
   ]
  },
  {
   "cell_type": "code",
   "execution_count": 154,
   "metadata": {},
   "outputs": [],
   "source": [
    "list_of_backends = IBMQ.get_provider('ibm-q').backends()\n",
    "list_of_backends.remove(IBMQ.get_provider('ibm-q').get_backend('ibmq_qasm_simulator'))\n",
    "list_of_backends.remove(IBMQ.get_provider('ibm-q').get_backend('ibmq_16_melbourne'))\n",
    "list_of_backends.remove(IBMQ.get_provider('ibm-q').get_backend('ibmq_vigo'))"
   ]
  },
  {
   "cell_type": "code",
   "execution_count": 202,
   "metadata": {},
   "outputs": [
    {
     "data": {
      "text/plain": [
       "array([[1., 0., 0., 0., 0., 0., 0., 0., 0.]])"
      ]
     },
     "execution_count": 202,
     "metadata": {},
     "output_type": "execute_result"
    }
   ],
   "source": [
    "validation_set"
   ]
  },
  {
   "cell_type": "code",
   "execution_count": 205,
   "metadata": {},
   "outputs": [
    {
     "name": "stderr",
     "output_type": "stream",
     "text": [
      "Device reported a gate error parameter greater than maximum allowed value (1.000000 > 0.800000). Truncating to maximum value.\n",
      "Device model returned a depolarizing error parameter greater than maximum allowed value (1.067405 > 1.066667). Truncating to maximum value.\n",
      "Device reported a gate error parameter greater than maximum allowed value (1.000000 > 0.800000). Truncating to maximum value.\n",
      "Device model returned a depolarizing error parameter greater than maximum allowed value (1.067339 > 1.066667). Truncating to maximum value.\n"
     ]
    }
   ],
   "source": [
    "circuit_arrays, circuit = list_of_circuits(1)\n",
    "simulator = Aer.get_backend('statevector_simulator')\n",
    "device = IBMQ.get_provider('ibm-q').get_backend('ibmq_london')\n",
    "coupling_map = device.configuration().coupling_map\n",
    "basis_gates = device.configuration().basis_gates\n",
    "noise_model = NoiseModel.from_backend(device)\n",
    "\n",
    "psi_0 = execute(circuit, simulator, coupling_map = coupling_map, basis_gates = basis_gates).result().get_statevector()\n",
    "\n",
    "job2 = execute(circuit, simulator, shots = 10, coupling_map = coupling_map, basis_gates = basis_gates, noise_model = noise_model).result().get_statevector()\n",
    "fidelity = qiskit.quantum_info.state_fidelity(psi_0, job2, validate=True)"
   ]
  },
  {
   "cell_type": "code",
   "execution_count": 191,
   "metadata": {},
   "outputs": [
    {
     "name": "stdout",
     "output_type": "stream",
     "text": [
      "0.0\n"
     ]
    }
   ],
   "source": [
    "print(fidelity)"
   ]
  },
  {
   "cell_type": "code",
   "execution_count": 130,
   "metadata": {},
   "outputs": [],
   "source": [
    "circuit_arrays, circuit = list_of_circuits(1)\n",
    "device = IBMQ.get_provider('ibm-q').get_backend('ibmq_london')\n",
    "job = execute(circuit, device, shots = 1000).result()\n"
   ]
  },
  {
   "cell_type": "code",
   "execution_count": null,
   "metadata": {},
   "outputs": [
    {
     "name": "stdout",
     "output_type": "stream",
     "text": [
      "ERROR! Session/line number was not unique in database. History logging moved to new session 47\n"
     ]
    },
    {
     "ename": "NameError",
     "evalue": "name 'state_fidelity' is not defined",
     "output_type": "error",
     "traceback": [
      "\u001b[1;31m---------------------------------------------------------------------------\u001b[0m",
      "\u001b[1;31mNameError\u001b[0m                                 Traceback (most recent call last)",
      "\u001b[1;32m<ipython-input-136-6191685d002a>\u001b[0m in \u001b[0;36m<module>\u001b[1;34m\u001b[0m\n\u001b[0;32m     15\u001b[0m             \u001b[0mpsi_1\u001b[0m \u001b[1;33m=\u001b[0m \u001b[0mexecute\u001b[0m\u001b[1;33m(\u001b[0m\u001b[0mcircuits\u001b[0m\u001b[1;33m[\u001b[0m\u001b[0mi\u001b[0m\u001b[1;33m]\u001b[0m\u001b[1;33m,\u001b[0m \u001b[0mlist_of_backends\u001b[0m\u001b[1;33m[\u001b[0m\u001b[0mj\u001b[0m\u001b[1;33m]\u001b[0m\u001b[1;33m,\u001b[0m \u001b[0mshots\u001b[0m \u001b[1;33m=\u001b[0m \u001b[1;36m1000\u001b[0m\u001b[1;33m)\u001b[0m\u001b[1;33m.\u001b[0m\u001b[0mresult\u001b[0m\u001b[1;33m(\u001b[0m\u001b[1;33m)\u001b[0m\u001b[1;33m.\u001b[0m\u001b[0mget_counts\u001b[0m\u001b[1;33m(\u001b[0m\u001b[1;33m)\u001b[0m\u001b[1;33m\u001b[0m\u001b[1;33m\u001b[0m\u001b[0m\n\u001b[0;32m     16\u001b[0m             \u001b[0mpsi_1\u001b[0m \u001b[1;33m=\u001b[0m \u001b[0mnp\u001b[0m\u001b[1;33m.\u001b[0m\u001b[0masarray\u001b[0m\u001b[1;33m(\u001b[0m\u001b[1;33m[\u001b[0m\u001b[0mvalue\u001b[0m\u001b[1;33m/\u001b[0m\u001b[1;36m1000\u001b[0m \u001b[1;32mfor\u001b[0m \u001b[0mvalue\u001b[0m \u001b[1;32min\u001b[0m \u001b[0mpsi_1\u001b[0m\u001b[1;33m.\u001b[0m\u001b[0mvalues\u001b[0m\u001b[1;33m(\u001b[0m\u001b[1;33m)\u001b[0m\u001b[1;33m]\u001b[0m\u001b[1;33m)\u001b[0m\u001b[1;33m\u001b[0m\u001b[1;33m\u001b[0m\u001b[0m\n\u001b[1;32m---> 17\u001b[1;33m             \u001b[0mfidelity\u001b[0m \u001b[1;33m=\u001b[0m \u001b[0mstate_fidelity\u001b[0m\u001b[1;33m(\u001b[0m\u001b[0mpsi0\u001b[0m\u001b[1;33m,\u001b[0m \u001b[0mpsi1\u001b[0m\u001b[1;33m,\u001b[0m \u001b[0mvalidate\u001b[0m\u001b[1;33m=\u001b[0m\u001b[1;32mTrue\u001b[0m\u001b[1;33m)\u001b[0m\u001b[1;33m\u001b[0m\u001b[1;33m\u001b[0m\u001b[0m\n\u001b[0m\u001b[0;32m     18\u001b[0m \u001b[1;33m\u001b[0m\u001b[0m\n\u001b[0;32m     19\u001b[0m \u001b[1;33m\u001b[0m\u001b[0m\n",
      "\u001b[1;31mNameError\u001b[0m: name 'state_fidelity' is not defined"
     ]
    }
   ],
   "source": [
    "statevector = [value/1000 for value in job.get_counts().values()]\n"
   ]
  },
  {
   "cell_type": "code",
   "execution_count": 135,
   "metadata": {},
   "outputs": [
    {
     "data": {
      "text/plain": [
       "array([0.031, 0.503, 0.431, 0.035])"
      ]
     },
     "execution_count": 135,
     "metadata": {},
     "output_type": "execute_result"
    }
   ],
   "source": [
    "np.asarray(statevector)"
   ]
  },
  {
   "cell_type": "code",
   "execution_count": 134,
   "metadata": {},
   "outputs": [
    {
     "data": {
      "text/plain": [
       "{'01': 31, '10': 503, '11': 431, '00': 35}"
      ]
     },
     "execution_count": 134,
     "metadata": {},
     "output_type": "execute_result"
    }
   ],
   "source": [
    "job.get_counts()"
   ]
  },
  {
   "cell_type": "code",
   "execution_count": 207,
   "metadata": {},
   "outputs": [
    {
     "data": {
      "text/plain": [
       "5"
      ]
     },
     "execution_count": 207,
     "metadata": {},
     "output_type": "execute_result"
    }
   ],
   "source": [
    "randint(1,15)"
   ]
  },
  {
   "cell_type": "code",
   "execution_count": null,
   "metadata": {},
   "outputs": [],
   "source": []
  }
 ],
 "metadata": {
  "kernelspec": {
   "display_name": "Python 3",
   "language": "python",
   "name": "python3"
  },
  "language_info": {
   "codemirror_mode": {
    "name": "ipython",
    "version": 3
   },
   "file_extension": ".py",
   "mimetype": "text/x-python",
   "name": "python",
   "nbconvert_exporter": "python",
   "pygments_lexer": "ipython3",
   "version": "3.8.3"
  }
 },
 "nbformat": 4,
 "nbformat_minor": 2
}
